{
 "cells": [
  {
   "cell_type": "code",
   "execution_count": 1,
   "id": "068f0510",
   "metadata": {},
   "outputs": [
    {
     "name": "stderr",
     "output_type": "stream",
     "text": [
      "                                                                                \r"
     ]
    }
   ],
   "source": [
    "from pyspark.sql import SparkSession\n",
    "spark = SparkSession.builder \\\n",
    "    .enableHiveSupport().getOrCreate()\n",
    "df = spark.read.options(header='True', inferSchema='True', delimiter=',') \\\n",
    "  .csv(\"train_data.csv\")"
   ]
  },
  {
   "cell_type": "code",
   "execution_count": 2,
   "id": "03921a77",
   "metadata": {},
   "outputs": [
    {
     "name": "stderr",
     "output_type": "stream",
     "text": [
      "21/12/14 20:27:17 WARN package: Truncated the string representation of a plan since it was too large. This behavior can be adjusted by setting 'spark.sql.debug.maxToStringFields'.\n"
     ]
    }
   ],
   "source": [
    "df.createOrReplaceTempView(\"loan_table\")"
   ]
  },
  {
   "cell_type": "code",
   "execution_count": 32,
   "id": "f41238f7",
   "metadata": {},
   "outputs": [],
   "source": [
    "result = spark.sql(\"SELECT employer_type,COUNT(*)/(SELECT count(*) FROM loan_table) AS percentage FROM loan_table GROUP BY (employer_type);\")"
   ]
  },
  {
   "cell_type": "code",
   "execution_count": 35,
   "id": "f7e599ed",
   "metadata": {},
   "outputs": [
    {
     "name": "stderr",
     "output_type": "stream",
     "text": [
      "\r",
      "[Stage 47:=============================>                            (1 + 1) / 2]\r"
     ]
    },
    {
     "name": "stdout",
     "output_type": "stream",
     "text": [
      "+--------------+--------------------+\n",
      "| employer_type|          percentage|\n",
      "+--------------+--------------------+\n",
      "|幼教与中小学校| 0.09998333333333333|\n",
      "|      上市企业| 0.10012666666666667|\n",
      "|      政府机构| 0.25815333333333335|\n",
      "|    世界五百强|0.053706666666666666|\n",
      "|  高等教育机构| 0.03368666666666666|\n",
      "|      普通企业|  0.4543433333333333|\n",
      "+--------------+--------------------+\n",
      "\n"
     ]
    },
    {
     "name": "stderr",
     "output_type": "stream",
     "text": [
      "\r",
      "                                                                                \r"
     ]
    }
   ],
   "source": [
    "result.show()"
   ]
  },
  {
   "cell_type": "code",
   "execution_count": 34,
   "id": "af658d79",
   "metadata": {},
   "outputs": [],
   "source": [
    "file=r\"task3_q1.csv\"\n",
    "result.write.csv(path=file, header=True, sep=\",\")"
   ]
  },
  {
   "cell_type": "markdown",
   "id": "dbe87c6d",
   "metadata": {},
   "source": [
    "question 2"
   ]
  },
  {
   "cell_type": "code",
   "execution_count": 40,
   "id": "c323f368",
   "metadata": {},
   "outputs": [],
   "source": [
    "result2 = spark.sql(\"select user_id,year_of_loan*monthly_payment*12-total_loan as total_money from loan_table\")"
   ]
  },
  {
   "cell_type": "code",
   "execution_count": 41,
   "id": "e0d6dac2",
   "metadata": {},
   "outputs": [
    {
     "name": "stderr",
     "output_type": "stream",
     "text": [
      "                                                                                \r"
     ]
    }
   ],
   "source": [
    "file=r\"task3_q2.csv\"\n",
    "result2.write.csv(path=file, header=True, sep=\",\")"
   ]
  },
  {
   "cell_type": "markdown",
   "id": "347807e6",
   "metadata": {},
   "source": [
    "question 3"
   ]
  },
  {
   "cell_type": "code",
   "execution_count": 60,
   "id": "d419bce6",
   "metadata": {},
   "outputs": [],
   "source": [
    "result3 = spark.sql(\"select user_id,censor_status,work_year from loan_table where work_year in ('10+ years','6 years','7 years','8 years','9 years')\")"
   ]
  },
  {
   "cell_type": "code",
   "execution_count": 61,
   "id": "370feac9",
   "metadata": {},
   "outputs": [
    {
     "name": "stderr",
     "output_type": "stream",
     "text": [
      "                                                                                \r"
     ]
    }
   ],
   "source": [
    "file=r\"task3_q3.csv\"\n",
    "result3.write.csv(path=file, header=True, sep=\",\")"
   ]
  },
  {
   "cell_type": "code",
   "execution_count": null,
   "id": "7d3f5887",
   "metadata": {},
   "outputs": [],
   "source": []
  }
 ],
 "metadata": {
  "kernelspec": {
   "display_name": "Python 3 (ipykernel)",
   "language": "python",
   "name": "python3"
  },
  "language_info": {
   "codemirror_mode": {
    "name": "ipython",
    "version": 3
   },
   "file_extension": ".py",
   "mimetype": "text/x-python",
   "name": "python",
   "nbconvert_exporter": "python",
   "pygments_lexer": "ipython3",
   "version": "3.8.10"
  }
 },
 "nbformat": 4,
 "nbformat_minor": 5
}
