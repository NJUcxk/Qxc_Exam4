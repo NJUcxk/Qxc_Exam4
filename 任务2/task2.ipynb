{
 "cells": [
  {
   "cell_type": "code",
   "execution_count": 7,
   "id": "a3690a89",
   "metadata": {},
   "outputs": [],
   "source": [
    "import math"
   ]
  },
  {
   "cell_type": "code",
   "execution_count": 1,
   "id": "a4a5ba2a",
   "metadata": {},
   "outputs": [],
   "source": [
    "lines = sc.textFile('train_data.csv')"
   ]
  },
  {
   "cell_type": "code",
   "execution_count": 2,
   "id": "3b0bb87e",
   "metadata": {},
   "outputs": [
    {
     "name": "stderr",
     "output_type": "stream",
     "text": [
      "                                                                                \r"
     ]
    }
   ],
   "source": [
    "header = lines.first()#第一行 \n",
    "lines = lines.filter(lambda row:row != header)#删除第一行"
   ]
  },
  {
   "cell_type": "code",
   "execution_count": 23,
   "id": "d33438da",
   "metadata": {},
   "outputs": [],
   "source": [
    "loan_lines = lines.map(lambda x:float(x.split(',')[2]))"
   ]
  },
  {
   "cell_type": "code",
   "execution_count": 32,
   "id": "91609ce0",
   "metadata": {},
   "outputs": [],
   "source": [
    "def get_pair(x):\n",
    "    floor = int(x/1000)*1000\n",
    "    ceil = math.ceil(x/1000)*1000\n",
    "    if floor == ceil:\n",
    "        ceil += 1000\n",
    "    key = '('+str(floor)+','+str(ceil)+')'\n",
    "    return (key,1)"
   ]
  },
  {
   "cell_type": "code",
   "execution_count": 33,
   "id": "978ed0d1",
   "metadata": {},
   "outputs": [],
   "source": [
    "pair_loan_lines = loan_lines.map(get_pair)"
   ]
  },
  {
   "cell_type": "code",
   "execution_count": 34,
   "id": "ef07a0c8",
   "metadata": {},
   "outputs": [],
   "source": [
    "result = pair_loan_lines.reduceByKey(lambda x, y: x + y)"
   ]
  },
  {
   "cell_type": "code",
   "execution_count": 36,
   "id": "a8137317",
   "metadata": {},
   "outputs": [
    {
     "data": {
      "text/plain": [
       "[('(0,1000)', 2),\n",
       " ('(1000,2000)', 4043),\n",
       " ('(10000,11000)', 27170),\n",
       " ('(11000,12000)', 7472),\n",
       " ('(12000,13000)', 20513),\n",
       " ('(13000,14000)', 5928),\n",
       " ('(14000,15000)', 8888),\n",
       " ('(15000,16000)', 18612),\n",
       " ('(16000,17000)', 11277),\n",
       " ('(17000,18000)', 4388),\n",
       " ('(18000,19000)', 9342),\n",
       " ('(19000,20000)', 4077),\n",
       " ('(2000,3000)', 6341),\n",
       " ('(20000,21000)', 17612),\n",
       " ('(21000,22000)', 5507),\n",
       " ('(22000,23000)', 3544),\n",
       " ('(23000,24000)', 2308),\n",
       " ('(24000,25000)', 8660),\n",
       " ('(25000,26000)', 8813),\n",
       " ('(26000,27000)', 1604),\n",
       " ('(27000,28000)', 1645),\n",
       " ('(28000,29000)', 5203),\n",
       " ('(29000,30000)', 1144),\n",
       " ('(3000,4000)', 9317),\n",
       " ('(30000,31000)', 6864),\n",
       " ('(31000,32000)', 752),\n",
       " ('(32000,33000)', 1887),\n",
       " ('(33000,34000)', 865),\n",
       " ('(34000,35000)', 587),\n",
       " ('(35000,36000)', 11427),\n",
       " ('(36000,37000)', 364),\n",
       " ('(37000,38000)', 59),\n",
       " ('(38000,39000)', 85),\n",
       " ('(39000,40000)', 30),\n",
       " ('(4000,5000)', 10071),\n",
       " ('(40000,41000)', 1493),\n",
       " ('(5000,6000)', 16514),\n",
       " ('(6000,7000)', 15961),\n",
       " ('(7000,8000)', 12789),\n",
       " ('(8000,9000)', 16384),\n",
       " ('(9000,10000)', 10458)]"
      ]
     },
     "execution_count": 36,
     "metadata": {},
     "output_type": "execute_result"
    }
   ],
   "source": [
    "result.sortByKey().collect()"
   ]
  },
  {
   "cell_type": "code",
   "execution_count": null,
   "id": "06cf128e",
   "metadata": {},
   "outputs": [],
   "source": []
  }
 ],
 "metadata": {
  "kernelspec": {
   "display_name": "Python 3 (ipykernel)",
   "language": "python",
   "name": "python3"
  },
  "language_info": {
   "codemirror_mode": {
    "name": "ipython",
    "version": 3
   },
   "file_extension": ".py",
   "mimetype": "text/x-python",
   "name": "python",
   "nbconvert_exporter": "python",
   "pygments_lexer": "ipython3",
   "version": "3.8.10"
  }
 },
 "nbformat": 4,
 "nbformat_minor": 5
}
